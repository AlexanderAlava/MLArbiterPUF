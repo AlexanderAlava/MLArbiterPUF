{
 "cells": [
  {
   "cell_type": "markdown",
   "metadata": {},
   "source": [
    "### Final Project Sequential Model \n"
   ]
  },
  {
   "cell_type": "code",
   "execution_count": 1,
   "metadata": {},
   "outputs": [
    {
     "name": "stderr",
     "output_type": "stream",
     "text": [
      "Using TensorFlow backend.\n"
     ]
    }
   ],
   "source": [
    "import pandas as pd\n",
    "import numpy as np\n",
    "from keras import optimizers\n",
    "from keras.models import Sequential\n",
    "from keras.layers import *\n",
    "from keras.utils.vis_utils import plot_model\n",
    "from sklearn.metrics import *\n",
    "from keras.optimizers import Adam"
   ]
  },
  {
   "cell_type": "code",
   "execution_count": 2,
   "metadata": {},
   "outputs": [],
   "source": [
    "training_data_df = pd.read_csv(\"CRPSets_11k_training.csv\", header=None)"
   ]
  },
  {
   "cell_type": "code",
   "execution_count": 3,
   "metadata": {},
   "outputs": [],
   "source": [
    "X = training_data_df.drop(training_data_df.columns[[64]], axis=1).values\n",
    "Y = training_data_df[training_data_df.columns[64]].values"
   ]
  },
  {
   "cell_type": "code",
   "execution_count": 4,
   "metadata": {},
   "outputs": [
    {
     "name": "stdout",
     "output_type": "stream",
     "text": [
      "WARNING:tensorflow:From /usr/local/lib/python3.7/site-packages/tensorflow/python/framework/op_def_library.py:263: colocate_with (from tensorflow.python.framework.ops) is deprecated and will be removed in a future version.\n",
      "Instructions for updating:\n",
      "Colocations handled automatically by placer.\n"
     ]
    }
   ],
   "source": [
    "model = Sequential()\n",
    "model.add(Dense(50, input_dim=64, activation='relu'))\n",
    "model.add(Dense(100, activation='relu'))\n",
    "model.add(Dense(50, activation='relu'))\n",
    "model.add(Dense(1, activation='sigmoid'))\n",
    "\n"
   ]
  },
  {
   "cell_type": "code",
   "execution_count": 5,
   "metadata": {},
   "outputs": [],
   "source": [
    "model.compile(loss='binary_crossentropy', optimizer=\"adam\", metrics=['accuracy'])"
   ]
  },
  {
   "cell_type": "code",
   "execution_count": 6,
   "metadata": {},
   "outputs": [
    {
     "name": "stdout",
     "output_type": "stream",
     "text": [
      "WARNING:tensorflow:From /usr/local/lib/python3.7/site-packages/tensorflow/python/ops/math_ops.py:3066: to_int32 (from tensorflow.python.ops.math_ops) is deprecated and will be removed in a future version.\n",
      "Instructions for updating:\n",
      "Use tf.cast instead.\n",
      "Epoch 1/50\n",
      "0s - loss: 0.6914 - acc: 0.5339\n",
      "Epoch 2/50\n",
      "0s - loss: 0.6821 - acc: 0.5541\n",
      "Epoch 3/50\n",
      "0s - loss: 0.6712 - acc: 0.5824\n",
      "Epoch 4/50\n",
      "0s - loss: 0.6564 - acc: 0.6066\n",
      "Epoch 5/50\n",
      "0s - loss: 0.6424 - acc: 0.6325\n",
      "Epoch 6/50\n",
      "0s - loss: 0.6308 - acc: 0.6485\n",
      "Epoch 7/50\n",
      "0s - loss: 0.6159 - acc: 0.6676\n",
      "Epoch 8/50\n",
      "0s - loss: 0.6007 - acc: 0.6775\n",
      "Epoch 9/50\n",
      "0s - loss: 0.5830 - acc: 0.6972\n",
      "Epoch 10/50\n",
      "0s - loss: 0.5645 - acc: 0.7125\n",
      "Epoch 11/50\n",
      "0s - loss: 0.5446 - acc: 0.7196\n",
      "Epoch 12/50\n",
      "0s - loss: 0.5274 - acc: 0.7365\n",
      "Epoch 13/50\n",
      "0s - loss: 0.5055 - acc: 0.7535\n",
      "Epoch 14/50\n",
      "0s - loss: 0.4876 - acc: 0.7667\n",
      "Epoch 15/50\n",
      "0s - loss: 0.4671 - acc: 0.7773\n",
      "Epoch 16/50\n",
      "0s - loss: 0.4454 - acc: 0.7897\n",
      "Epoch 17/50\n",
      "0s - loss: 0.4317 - acc: 0.7974\n",
      "Epoch 18/50\n",
      "0s - loss: 0.4116 - acc: 0.8125\n",
      "Epoch 19/50\n",
      "0s - loss: 0.3899 - acc: 0.8211\n",
      "Epoch 20/50\n",
      "0s - loss: 0.3734 - acc: 0.8301\n",
      "Epoch 21/50\n",
      "0s - loss: 0.3609 - acc: 0.8401\n",
      "Epoch 22/50\n",
      "0s - loss: 0.3439 - acc: 0.8489\n",
      "Epoch 23/50\n",
      "0s - loss: 0.3239 - acc: 0.8588\n",
      "Epoch 24/50\n",
      "0s - loss: 0.3091 - acc: 0.8679\n",
      "Epoch 25/50\n",
      "0s - loss: 0.2925 - acc: 0.8784\n",
      "Epoch 26/50\n",
      "0s - loss: 0.2779 - acc: 0.8837\n",
      "Epoch 27/50\n",
      "0s - loss: 0.2630 - acc: 0.8876\n",
      "Epoch 28/50\n",
      "0s - loss: 0.2524 - acc: 0.8955\n",
      "Epoch 29/50\n",
      "0s - loss: 0.2373 - acc: 0.9060\n",
      "Epoch 30/50\n",
      "0s - loss: 0.2251 - acc: 0.9068\n",
      "Epoch 31/50\n",
      "0s - loss: 0.2205 - acc: 0.9107\n",
      "Epoch 32/50\n",
      "0s - loss: 0.2038 - acc: 0.9197\n",
      "Epoch 33/50\n",
      "0s - loss: 0.1922 - acc: 0.9254\n",
      "Epoch 34/50\n",
      "0s - loss: 0.1812 - acc: 0.9315\n",
      "Epoch 35/50\n",
      "0s - loss: 0.1756 - acc: 0.9334\n",
      "Epoch 36/50\n",
      "0s - loss: 0.1641 - acc: 0.9387\n",
      "Epoch 37/50\n",
      "0s - loss: 0.1596 - acc: 0.9397\n",
      "Epoch 38/50\n",
      "0s - loss: 0.1536 - acc: 0.9406\n",
      "Epoch 39/50\n",
      "0s - loss: 0.1387 - acc: 0.9500\n",
      "Epoch 40/50\n",
      "0s - loss: 0.1349 - acc: 0.9517\n",
      "Epoch 41/50\n",
      "0s - loss: 0.1207 - acc: 0.9579\n",
      "Epoch 42/50\n",
      "0s - loss: 0.1182 - acc: 0.9575\n",
      "Epoch 43/50\n",
      "0s - loss: 0.1199 - acc: 0.9553\n",
      "Epoch 44/50\n",
      "0s - loss: 0.1120 - acc: 0.9584\n",
      "Epoch 45/50\n",
      "0s - loss: 0.1040 - acc: 0.9631\n",
      "Epoch 46/50\n",
      "0s - loss: 0.0940 - acc: 0.9685\n",
      "Epoch 47/50\n",
      "0s - loss: 0.0902 - acc: 0.9697\n",
      "Epoch 48/50\n",
      "0s - loss: 0.0852 - acc: 0.9709\n",
      "Epoch 49/50\n",
      "0s - loss: 0.0869 - acc: 0.9695\n",
      "Epoch 50/50\n",
      "0s - loss: 0.0947 - acc: 0.9668\n"
     ]
    },
    {
     "data": {
      "text/plain": [
       "<keras.callbacks.History at 0x1336759b0>"
      ]
     },
     "execution_count": 6,
     "metadata": {},
     "output_type": "execute_result"
    }
   ],
   "source": [
    "model.fit(X, Y, epochs=50, verbose=2)"
   ]
  },
  {
   "cell_type": "code",
   "execution_count": null,
   "metadata": {},
   "outputs": [],
   "source": []
  }
 ],
 "metadata": {
  "kernelspec": {
   "display_name": "Python 3",
   "language": "python",
   "name": "python3"
  },
  "language_info": {
   "codemirror_mode": {
    "name": "ipython",
    "version": 3
   },
   "file_extension": ".py",
   "mimetype": "text/x-python",
   "name": "python",
   "nbconvert_exporter": "python",
   "pygments_lexer": "ipython3",
   "version": "3.7.3"
  }
 },
 "nbformat": 4,
 "nbformat_minor": 2
}
